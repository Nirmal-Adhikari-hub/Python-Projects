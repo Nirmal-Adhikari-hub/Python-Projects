{
 "cells": [
  {
   "cell_type": "markdown",
   "metadata": {},
   "source": [
    "# Analyzing Data"
   ]
  },
  {
   "cell_type": "markdown",
   "metadata": {},
   "source": [
    "## Prison Helicopter Escapes"
   ]
  },
  {
   "cell_type": "markdown",
   "metadata": {},
   "source": [
    "We begin by importing some helper functions."
   ]
  },
  {
   "cell_type": "code",
   "execution_count": 2,
   "metadata": {},
   "outputs": [],
   "source": [
    "from helper import *"
   ]
  },
  {
   "cell_type": "markdown",
   "metadata": {},
   "source": [
    "## Get the Data"
   ]
  },
  {
   "cell_type": "markdown",
   "metadata": {},
   "source": [
    "Now, let's get the data from the [List of helicopter prison escapes] (https://en.wikipedia.org/wiki/List_of_helicopter_prison_escapes) Wikipedia article."
   ]
  },
  {
   "cell_type": "code",
   "execution_count": 3,
   "metadata": {
    "slideshow": {
     "slide_type": "-"
    }
   },
   "outputs": [],
   "source": [
    "url = 'https://en.wikipedia.org/wiki/List_of_helicopter_prison_escapes'"
   ]
  },
  {
   "cell_type": "code",
   "execution_count": 4,
   "metadata": {},
   "outputs": [],
   "source": [
    "data = data_from_url(url)"
   ]
  },
  {
   "cell_type": "markdown",
   "metadata": {},
   "source": [
    "Let's print the first three rows\n"
   ]
  },
  {
   "cell_type": "code",
   "execution_count": 5,
   "metadata": {},
   "outputs": [
    {
     "name": "stdout",
     "output_type": "stream",
     "text": [
      "['October 31, 1973', 'Mountjoy Jail', 'Ireland', 'Yes', \"JB O'Hagan Seamus TwomeyKevin Mallon\", 'On October 31, 1973, an IRA member hijacked a helicopter and forced the pilot to land in the exercise yard of Dublin\\'s Mountjoy Jail\\'s D Wing at 3:40\\xa0p.m., October 31, 1973. Three members of the IRA were able to escape: JB O\\'Hagan, Seamus Twomey and Kevin Mallon. Another prisoner who also was in the prison was quoted as saying, \"One shamefaced screw apologised to the governor and said he thought it was the new Minister for Defence (Paddy Donegan) arriving. I told him it was our Minister of Defence leaving.\" The Mountjoy helicopter escape became Republican lore and was immortalized by \"The Helicopter Song\", which contains the lines \"It\\'s up like a bird and over the city. There\\'s three men a\\'missing I heard the warder say\".[1]']\n",
      "['May 24, 1978', 'United States Penitentiary, Marion', 'United States', 'No', 'Garrett Brock TrapnellMartin Joseph McNallyJames Kenneth Johnson', \"43-year-old Barbara Ann Oswald hijacked a Saint Louis-based charter helicopter and forced the pilot to land in the yard at USP Marion. While landing the aircraft, the pilot, Allen Barklage, who was a Vietnam War veteran, struggled with Oswald and managed to wrestle the gun away from her. Barklage then shot and killed Oswald, thwarting the escape.[10] A few months later Oswald's daughter hijacked TWA Flight 541 in an effort to free Trapnell.\"]\n",
      "['February 27, 1981', 'Fleury-Mérogis, Essonne, Ile de France', 'France', 'Yes', 'Gérard DupréDaniel Beaumont', \"With the help of Serge Coutel, Gérard Dupré and Daniel Beaumont, succeed in the first and double helicopter escape of a French prison, in Fleury-Mérogis (Essonne), the best kept prison of France. The men hijacked a helicopter and its pilot that they rented to fly from Paris to Orléans. The pilot, Claude Fourcade, was taken hostage and was told that they were holding his wife and daughter hostage (which was not true) ... The flight turned into Paris - Fleury -Merogis - Porte d'Orléans.[11]\"]\n"
     ]
    }
   ],
   "source": [
    "for rows in data[1:4]:\n",
    "    print(rows)"
   ]
  },
  {
   "cell_type": "code",
   "execution_count": 6,
   "metadata": {},
   "outputs": [],
   "source": [
    "index = 0"
   ]
  },
  {
   "cell_type": "markdown",
   "metadata": {},
   "source": [
    "Eliminating the last column to make tha data shorter"
   ]
  },
  {
   "cell_type": "code",
   "execution_count": 7,
   "metadata": {},
   "outputs": [
    {
     "name": "stdout",
     "output_type": "stream",
     "text": [
      "['August 19, 1971', 'Santa Martha Acatitla', 'Mexico', 'Yes', 'Joel David Kaplan Carlos Antonio Contreras Castro']\n",
      "['October 31, 1973', 'Mountjoy Jail', 'Ireland', 'Yes', \"JB O'Hagan Seamus TwomeyKevin Mallon\"]\n",
      "['May 24, 1978', 'United States Penitentiary, Marion', 'United States', 'No', 'Garrett Brock TrapnellMartin Joseph McNallyJames Kenneth Johnson']\n",
      "['February 27, 1981', 'Fleury-Mérogis, Essonne, Ile de France', 'France', 'Yes', 'Gérard DupréDaniel Beaumont']\n",
      "['May 7, 1981', 'Orsainville Prison, Quebec City', 'Canada', 'No', 'Marina Paquet (hijacker)Giles Arseneault (prisoner)']\n",
      "['January, 1983', 'Pentridge (HM Prison)', 'Australia', 'No', 'David McMillan']\n"
     ]
    }
   ],
   "source": [
    "for row in data:\n",
    "    data[index] = row[:-1]\n",
    "    index += 1\n",
    "\n",
    "for row in data[:6]:\n",
    "    print(row)"
   ]
  },
  {
   "cell_type": "code",
   "execution_count": 8,
   "metadata": {},
   "outputs": [
    {
     "name": "stdout",
     "output_type": "stream",
     "text": [
      "[1971, 'Santa Martha Acatitla', 'Mexico', 'Yes', 'Joel David Kaplan Carlos Antonio Contreras Castro']\n",
      "[1973, 'Mountjoy Jail', 'Ireland', 'Yes', \"JB O'Hagan Seamus TwomeyKevin Mallon\"]\n",
      "[1978, 'United States Penitentiary, Marion', 'United States', 'No', 'Garrett Brock TrapnellMartin Joseph McNallyJames Kenneth Johnson']\n",
      "[1981, 'Fleury-Mérogis, Essonne, Ile de France', 'France', 'Yes', 'Gérard DupréDaniel Beaumont']\n",
      "[1981, 'Orsainville Prison, Quebec City', 'Canada', 'No', 'Marina Paquet (hijacker)Giles Arseneault (prisoner)']\n",
      "[1983, 'Pentridge (HM Prison)', 'Australia', 'No', 'David McMillan']\n"
     ]
    }
   ],
   "source": [
    "i = 0\n",
    "for row in data:\n",
    "    row[0] = fetch_year(row[0]) \n",
    "    i += 1\n",
    "    \n",
    "for row in data[:6]:\n",
    "    print(row)"
   ]
  },
  {
   "cell_type": "markdown",
   "metadata": {},
   "source": [
    "# Prison Break according to a particular year"
   ]
  },
  {
   "cell_type": "markdown",
   "metadata": {},
   "source": [
    "### finding the high and lowest year from data"
   ]
  },
  {
   "cell_type": "code",
   "execution_count": 9,
   "metadata": {},
   "outputs": [],
   "source": [
    "min_year = min(data, key=lambda x: x[0])[0]\n",
    "max_year = max(data, key=lambda x: x[0])[0]"
   ]
  },
  {
   "cell_type": "markdown",
   "metadata": {},
   "source": [
    "#### making a list of year containing every year between high and low year"
   ]
  },
  {
   "cell_type": "code",
   "execution_count": 10,
   "metadata": {},
   "outputs": [],
   "source": [
    "years = []\n",
    "for year in range(min_year, max_year + 1):\n",
    "    years.append(year)"
   ]
  },
  {
   "cell_type": "code",
   "execution_count": 11,
   "metadata": {},
   "outputs": [
    {
     "name": "stdout",
     "output_type": "stream",
     "text": [
      "[1971, 1972, 1973, 1974, 1975, 1976, 1977, 1978, 1979, 1980, 1981, 1982, 1983, 1984, 1985, 1986, 1987, 1988, 1989, 1990, 1991, 1992, 1993, 1994, 1995, 1996, 1997, 1998, 1999, 2000, 2001, 2002, 2003, 2004, 2005, 2006, 2007, 2008, 2009, 2010, 2011, 2012, 2013, 2014, 2015, 2016, 2017, 2018, 2019, 2020]\n"
     ]
    }
   ],
   "source": [
    "print(years)"
   ]
  },
  {
   "cell_type": "markdown",
   "metadata": {},
   "source": [
    "#### initially assigning the number of attempts to 0 for every year"
   ]
  },
  {
   "cell_type": "code",
   "execution_count": 12,
   "metadata": {},
   "outputs": [],
   "source": [
    "attempts_per_year = []\n",
    "for year in years:\n",
    "    attempts_per_year.append([year, 0])"
   ]
  },
  {
   "cell_type": "code",
   "execution_count": 13,
   "metadata": {},
   "outputs": [
    {
     "name": "stdout",
     "output_type": "stream",
     "text": [
      "[[1971, 0], [1972, 0], [1973, 0], [1974, 0], [1975, 0], [1976, 0], [1977, 0], [1978, 0], [1979, 0], [1980, 0], [1981, 0], [1982, 0], [1983, 0], [1984, 0], [1985, 0], [1986, 0], [1987, 0], [1988, 0], [1989, 0], [1990, 0], [1991, 0], [1992, 0], [1993, 0], [1994, 0], [1995, 0], [1996, 0], [1997, 0], [1998, 0], [1999, 0], [2000, 0], [2001, 0], [2002, 0], [2003, 0], [2004, 0], [2005, 0], [2006, 0], [2007, 0], [2008, 0], [2009, 0], [2010, 0], [2011, 0], [2012, 0], [2013, 0], [2014, 0], [2015, 0], [2016, 0], [2017, 0], [2018, 0], [2019, 0], [2020, 0]]\n"
     ]
    }
   ],
   "source": [
    "print(attempts_per_year)"
   ]
  },
  {
   "cell_type": "markdown",
   "metadata": {},
   "source": [
    "#### Finding the exact number of attempts for every years by matching year with that of variable 'data' and for every match incrementing by 1"
   ]
  },
  {
   "cell_type": "code",
   "execution_count": 14,
   "metadata": {},
   "outputs": [
    {
     "name": "stdout",
     "output_type": "stream",
     "text": [
      "[[1971, 1], [1972, 0], [1973, 1], [1974, 0], [1975, 0], [1976, 0], [1977, 0], [1978, 1], [1979, 0], [1980, 0], [1981, 2], [1982, 0], [1983, 1], [1984, 0], [1985, 2], [1986, 3], [1987, 1], [1988, 1], [1989, 2], [1990, 1], [1991, 1], [1992, 2], [1993, 1], [1994, 0], [1995, 0], [1996, 1], [1997, 1], [1998, 0], [1999, 1], [2000, 2], [2001, 3], [2002, 2], [2003, 1], [2004, 0], [2005, 2], [2006, 1], [2007, 3], [2008, 0], [2009, 3], [2010, 1], [2011, 0], [2012, 1], [2013, 2], [2014, 1], [2015, 0], [2016, 1], [2017, 0], [2018, 1], [2019, 0], [2020, 1]]\n"
     ]
    }
   ],
   "source": [
    "for row in data:\n",
    "    for year_attempt in attempts_per_year:\n",
    "        if row[0] == year_attempt[0]:\n",
    "            year_attempt[1] += 1\n",
    "            \n",
    "print(attempts_per_year)"
   ]
  },
  {
   "cell_type": "code",
   "execution_count": 15,
   "metadata": {},
   "outputs": [
    {
     "data": {
      "image/png": "[encoded data removed]",
      "text/plain": [
       "<Figure size 900x1500 with 1 Axes>"
      ]
     },
     "metadata": {},
     "output_type": "display_data"
    }
   ],
   "source": [
    "%matplotlib inline\n",
    "barplot(attempts_per_year)"
   ]
  },
  {
   "cell_type": "markdown",
   "metadata": {},
   "source": [
    "#### From the visualization we can observe that the most attempts of breaking out of prison with a helicopter was made in 1986 and 2001."
   ]
  },
  {
   "cell_type": "markdown",
   "metadata": {},
   "source": [
    "# Prison Break According to Country\n",
    "### <i>Mine</i>"
   ]
  },
  {
   "cell_type": "code",
   "execution_count": 16,
   "metadata": {},
   "outputs": [
    {
     "name": "stdout",
     "output_type": "stream",
     "text": [
      "[1971, 'Santa Martha Acatitla', 'Mexico', 'Yes', 'Joel David Kaplan Carlos Antonio Contreras Castro']\n",
      "[1973, 'Mountjoy Jail', 'Ireland', 'Yes', \"JB O'Hagan Seamus TwomeyKevin Mallon\"]\n",
      "[1978, 'United States Penitentiary, Marion', 'United States', 'No', 'Garrett Brock TrapnellMartin Joseph McNallyJames Kenneth Johnson']\n",
      "[1981, 'Fleury-Mérogis, Essonne, Ile de France', 'France', 'Yes', 'Gérard DupréDaniel Beaumont']\n",
      "[1981, 'Orsainville Prison, Quebec City', 'Canada', 'No', 'Marina Paquet (hijacker)Giles Arseneault (prisoner)']\n"
     ]
    }
   ],
   "source": [
    "for row in data[:5]:\n",
    "    print(row)"
   ]
  },
  {
   "cell_type": "markdown",
   "metadata": {},
   "source": [
    "### Filtering every countries from the data"
   ]
  },
  {
   "cell_type": "code",
   "execution_count": 17,
   "metadata": {},
   "outputs": [
    {
     "name": "stdout",
     "output_type": "stream",
     "text": [
      "['Mexico', 'Ireland', 'United States', 'France', 'Canada', 'Australia', 'United States', 'Brazil', 'France', 'United States', 'Italy', 'United Kingdom', 'United States', 'United States', 'United States', 'Canada', 'Puerto Rico', 'France', 'France', 'France', 'Chile', 'Netherlands', 'Australia', 'United States', 'France', 'France', 'France', 'France', 'Brazil', 'United States', 'France', 'France', 'France', 'Greece', 'Belgium', 'France', 'Belgium', 'Greece', 'France', 'Belgium', 'United Kingdom', 'Russia', 'Greece', 'Canada', 'Canada', 'Greece', 'France', 'Belgium']\n"
     ]
    }
   ],
   "source": [
    "all_countries = []\n",
    "for row in data:\n",
    "    all_countries.append(row[2])\n",
    "\n",
    "print(all_countries)"
   ]
  },
  {
   "cell_type": "markdown",
   "metadata": {},
   "source": [
    "### Making new list of unique countries"
   ]
  },
  {
   "cell_type": "code",
   "execution_count": 18,
   "metadata": {},
   "outputs": [],
   "source": [
    "countries_set = set(all_countries)\n",
    "countries = list(countries_set)"
   ]
  },
  {
   "cell_type": "code",
   "execution_count": 19,
   "metadata": {},
   "outputs": [
    {
     "name": "stdout",
     "output_type": "stream",
     "text": [
      "['Belgium', 'Ireland', 'Canada', 'Brazil', 'Australia', 'Mexico', 'Russia', 'Puerto Rico', 'United States', 'United Kingdom', 'Netherlands', 'Greece', 'France', 'Chile', 'Italy']\n"
     ]
    }
   ],
   "source": [
    "print(countries)"
   ]
  },
  {
   "cell_type": "markdown",
   "metadata": {},
   "source": [
    "### Performing the matching to assign attempts made"
   ]
  },
  {
   "cell_type": "code",
   "execution_count": 20,
   "metadata": {},
   "outputs": [
    {
     "name": "stdout",
     "output_type": "stream",
     "text": [
      "[['Belgium', 0], ['Ireland', 0], ['Canada', 0], ['Brazil', 0], ['Australia', 0], ['Mexico', 0], ['Russia', 0], ['Puerto Rico', 0], ['United States', 0], ['United Kingdom', 0], ['Netherlands', 0], ['Greece', 0], ['France', 0], ['Chile', 0], ['Italy', 0]]\n"
     ]
    }
   ],
   "source": [
    "attempts_per_country = []\n",
    "for country in countries:\n",
    "    attempts_per_country.append([country, 0])\n",
    "\n",
    "print(attempts_per_country)"
   ]
  },
  {
   "cell_type": "code",
   "execution_count": 21,
   "metadata": {},
   "outputs": [
    {
     "name": "stdout",
     "output_type": "stream",
     "text": [
      "[['Belgium', 4], ['Ireland', 1], ['Canada', 4], ['Brazil', 2], ['Australia', 2], ['Mexico', 1], ['Russia', 1], ['Puerto Rico', 1], ['United States', 8], ['United Kingdom', 2], ['Netherlands', 1], ['Greece', 4], ['France', 15], ['Chile', 1], ['Italy', 1]]\n"
     ]
    }
   ],
   "source": [
    "for row in data:\n",
    "    for country_attempt in attempts_per_country:\n",
    "        if country_attempt[0] == row[2]:\n",
    "            country_attempt[1] += 1\n",
    "            \n",
    "print(attempts_per_country)"
   ]
  },
  {
   "cell_type": "code",
   "execution_count": 22,
   "metadata": {},
   "outputs": [
    {
     "data": {
      "image/png": "[encoded data removed]",
      "text/plain": [
       "<Figure size 900x1500 with 1 Axes>"
      ]
     },
     "metadata": {},
     "output_type": "display_data"
    }
   ],
   "source": [
    "%matplotlib inline\n",
    "barplot(attempts_per_country)"
   ]
  },
  {
   "cell_type": "markdown",
   "metadata": {},
   "source": [
    "### <i>The most number of attempts were made by prisoners of France.</i>"
   ]
  },
  {
   "cell_type": "markdown",
   "metadata": {},
   "source": [
    "# Prison Break According to the Country\n",
    "### <i>Guided</i>"
   ]
  },
  {
   "cell_type": "code",
   "execution_count": 23,
   "metadata": {},
   "outputs": [],
   "source": [
    "countries_frequency = df[\"Country\"].value_counts()"
   ]
  },
  {
   "cell_type": "code",
   "execution_count": 24,
   "metadata": {},
   "outputs": [
    {
     "data": {
      "text/html": [
       "<table border=\"1\" class=\"dataframe\">\n",
       "  <thead>\n",
       "    <tr style=\"text-align: right;\">\n",
       "      <th>Country</th>\n",
       "      <th>Number of Occurrences</th>\n",
       "    </tr>\n",
       "  </thead>\n",
       "  <tbody>\n",
       "    <tr>\n",
       "      <td>France</td>\n",
       "      <td>15</td>\n",
       "    </tr>\n",
       "    <tr>\n",
       "      <td>United States</td>\n",
       "      <td>8</td>\n",
       "    </tr>\n",
       "    <tr>\n",
       "      <td>Greece</td>\n",
       "      <td>4</td>\n",
       "    </tr>\n",
       "    <tr>\n",
       "      <td>Canada</td>\n",
       "      <td>4</td>\n",
       "    </tr>\n",
       "    <tr>\n",
       "      <td>Belgium</td>\n",
       "      <td>4</td>\n",
       "    </tr>\n",
       "    <tr>\n",
       "      <td>United Kingdom</td>\n",
       "      <td>2</td>\n",
       "    </tr>\n",
       "    <tr>\n",
       "      <td>Australia</td>\n",
       "      <td>2</td>\n",
       "    </tr>\n",
       "    <tr>\n",
       "      <td>Brazil</td>\n",
       "      <td>2</td>\n",
       "    </tr>\n",
       "    <tr>\n",
       "      <td>Italy</td>\n",
       "      <td>1</td>\n",
       "    </tr>\n",
       "    <tr>\n",
       "      <td>Chile</td>\n",
       "      <td>1</td>\n",
       "    </tr>\n",
       "    <tr>\n",
       "      <td>Netherlands</td>\n",
       "      <td>1</td>\n",
       "    </tr>\n",
       "    <tr>\n",
       "      <td>Russia</td>\n",
       "      <td>1</td>\n",
       "    </tr>\n",
       "    <tr>\n",
       "      <td>Puerto Rico</td>\n",
       "      <td>1</td>\n",
       "    </tr>\n",
       "    <tr>\n",
       "      <td>Mexico</td>\n",
       "      <td>1</td>\n",
       "    </tr>\n",
       "    <tr>\n",
       "      <td>Ireland</td>\n",
       "      <td>1</td>\n",
       "    </tr>\n",
       "  </tbody>\n",
       "</table>"
      ],
      "text/plain": [
       "<IPython.core.display.HTML object>"
      ]
     },
     "metadata": {},
     "output_type": "display_data"
    }
   ],
   "source": [
    "print_pretty_table(countries_frequency)"
   ]
  },
  {
   "cell_type": "markdown",
   "metadata": {},
   "source": [
    "## Same Result"
   ]
  },
  {
   "cell_type": "markdown",
   "metadata": {},
   "source": [
    "# Extra Questions\n",
    "## In which countries do helicopter prison breaks have a higher chance of success?\n"
   ]
  },
  {
   "cell_type": "code",
   "execution_count": 25,
   "metadata": {},
   "outputs": [
    {
     "name": "stdout",
     "output_type": "stream",
     "text": [
      "France            15\n",
      "United States      8\n",
      "Greece             4\n",
      "Canada             4\n",
      "Belgium            4\n",
      "United Kingdom     2\n",
      "Australia          2\n",
      "Brazil             2\n",
      "Italy              1\n",
      "Chile              1\n",
      "Netherlands        1\n",
      "Russia             1\n",
      "Puerto Rico        1\n",
      "Mexico             1\n",
      "Ireland            1\n",
      "Name: Country, dtype: int64\n"
     ]
    }
   ],
   "source": [
    "print(countries_frequency)"
   ]
  },
  {
   "cell_type": "code",
   "execution_count": 26,
   "metadata": {},
   "outputs": [
    {
     "data": {
      "text/plain": [
       "pandas.core.series.Series"
      ]
     },
     "execution_count": 26,
     "metadata": {},
     "output_type": "execute_result"
    }
   ],
   "source": [
    "type(countries_frequency)"
   ]
  },
  {
   "cell_type": "code",
   "execution_count": 27,
   "metadata": {},
   "outputs": [
    {
     "name": "stdout",
     "output_type": "stream",
     "text": [
      "[15, 8, 4, 4, 4, 2, 2, 2, 1, 1, 1, 1, 1, 1, 1]\n"
     ]
    }
   ],
   "source": [
    "countries_frequency_list = list(countries_frequency)\n",
    "print(countries_frequency_list)"
   ]
  },
  {
   "cell_type": "code",
   "execution_count": 28,
   "metadata": {},
   "outputs": [
    {
     "name": "stdout",
     "output_type": "stream",
     "text": [
      "[['Belgium', 4], ['Ireland', 1], ['Canada', 4], ['Brazil', 2], ['Australia', 2], ['Mexico', 1], ['Russia', 1], ['Puerto Rico', 1], ['United States', 8], ['United Kingdom', 2], ['Netherlands', 1], ['Greece', 4], ['France', 15], ['Chile', 1], ['Italy', 1]]\n",
      "['Belgium', 'Ireland', 'Canada', 'Brazil', 'Australia', 'Mexico', 'Russia', 'Puerto Rico', 'United States', 'United Kingdom', 'Netherlands', 'Greece', 'France', 'Chile', 'Italy']\n"
     ]
    }
   ],
   "source": [
    "print(attempts_per_country)\n",
    "print(countries)"
   ]
  },
  {
   "cell_type": "code",
   "execution_count": 29,
   "metadata": {},
   "outputs": [
    {
     "name": "stdout",
     "output_type": "stream",
     "text": [
      "[[1971, 'Santa Martha Acatitla', 'Mexico', 'Yes', 'Joel David Kaplan Carlos Antonio Contreras Castro'], [1973, 'Mountjoy Jail', 'Ireland', 'Yes', \"JB O'Hagan Seamus TwomeyKevin Mallon\"], [1978, 'United States Penitentiary, Marion', 'United States', 'No', 'Garrett Brock TrapnellMartin Joseph McNallyJames Kenneth Johnson'], [1981, 'Fleury-Mérogis, Essonne, Ile de France', 'France', 'Yes', 'Gérard DupréDaniel Beaumont'], [1981, 'Orsainville Prison, Quebec City', 'Canada', 'No', 'Marina Paquet (hijacker)Giles Arseneault (prisoner)']]\n"
     ]
    }
   ],
   "source": [
    "print(data[:5])"
   ]
  },
  {
   "cell_type": "code",
   "execution_count": 34,
   "metadata": {
    "deletable": false,
    "editable": false,
    "scrolled": true
   },
   "outputs": [
    {
     "name": "stdout",
     "output_type": "stream",
     "text": [
      "[['Belgium', 4, 0, 0], ['Ireland', 1, 1, 0], ['Canada', 4, 0, 0], ['Brazil', 2, 0, 0], ['Australia', 2, 0, 0], ['Mexico', 1, 1, 0], ['Russia', 1, 0, 0], ['Puerto Rico', 1, 0, 0], ['United States', 8, 0, 0], ['United Kingdom', 2, 0, 0], ['Netherlands', 1, 0, 0], ['Greece', 4, 0, 0], ['France', 15, 0, 0], ['Chile', 1, 0, 0], ['Italy', 1, 0, 0]]\n"
     ]
    }
   ],
   "source": [
    "for elm in attempts_per_country:\n",
    "    elm.append(0)\n",
    "  \n",
    "print(attempts_per_country)"
   ]
  },
  {
   "cell_type": "code",
   "execution_count": 35,
   "metadata": {},
   "outputs": [
    {
     "name": "stdout",
     "output_type": "stream",
     "text": [
      "[['Belgium', 4, 2, 2], ['Ireland', 1, 2, 0], ['Canada', 4, 3, 1], ['Brazil', 2, 2, 0], ['Australia', 2, 1, 1], ['Mexico', 1, 2, 0], ['Russia', 1, 1, 0], ['Puerto Rico', 1, 1, 0], ['United States', 8, 6, 2], ['United Kingdom', 2, 1, 1], ['Netherlands', 1, 0, 1], ['Greece', 4, 2, 2], ['France', 15, 11, 4], ['Chile', 1, 1, 0], ['Italy', 1, 1, 0]]\n"
     ]
    }
   ],
   "source": [
    "for row in data:\n",
    "    for country_sr in attempts_per_country:\n",
    "        if row[2] == country_sr[0] and row[3] == 'Yes':\n",
    "            country_sr[2] += 1\n",
    "        elif row[2] == country_sr[0] and row[3] == 'No':\n",
    "            country_sr[3] += 1\n",
    "            \n",
    "print(attempts_per_country)"
   ]
  },
  {
   "cell_type": "code",
   "execution_count": 36,
   "metadata": {},
   "outputs": [],
   "source": [
    "attempts_per_country.insert(0, [\"Country\", \"TotalAttempts\", \"Successes\", \"Fails\"])"
   ]
  },
  {
   "cell_type": "code",
   "execution_count": 37,
   "metadata": {
    "scrolled": true
   },
   "outputs": [
    {
     "data": {
      "text/plain": [
       "[['Country', 'TotalAttempts', 'Successes', 'Fails'],\n",
       " ['Belgium', 4, 2, 2],\n",
       " ['Ireland', 1, 2, 0],\n",
       " ['Canada', 4, 3, 1],\n",
       " ['Brazil', 2, 2, 0],\n",
       " ['Australia', 2, 1, 1],\n",
       " ['Mexico', 1, 2, 0],\n",
       " ['Russia', 1, 1, 0],\n",
       " ['Puerto Rico', 1, 1, 0],\n",
       " ['United States', 8, 6, 2],\n",
       " ['United Kingdom', 2, 1, 1],\n",
       " ['Netherlands', 1, 0, 1],\n",
       " ['Greece', 4, 2, 2],\n",
       " ['France', 15, 11, 4],\n",
       " ['Chile', 1, 1, 0],\n",
       " ['Italy', 1, 1, 0]]"
      ]
     },
     "execution_count": 37,
     "metadata": {},
     "output_type": "execute_result"
    }
   ],
   "source": [
    "attempts_per_country"
   ]
  },
  {
   "cell_type": "code",
   "execution_count": 39,
   "metadata": {},
   "outputs": [],
   "source": [
    "df = pd.DataFrame(attempts_per_country[1:], columns=attempts_per_country[0])"
   ]
  },
  {
   "cell_type": "code",
   "execution_count": 41,
   "metadata": {},
   "outputs": [],
   "source": [
    "from matplotlib import pyplot as plt\n",
    "import pandas as pd\n",
    "import seaborn as sns"
   ]
  },
  {
   "cell_type": "code",
   "execution_count": 42,
   "metadata": {},
   "outputs": [],
   "source": [
    "plotdata = pd.DataFrame(df)"
   ]
  },
  {
   "cell_type": "code",
   "execution_count": 47,
   "metadata": {},
   "outputs": [
    {
     "data": {
      "image/png": "[encoded data removed]",
      "text/plain": [
       "<Figure size 2000x1000 with 1 Axes>"
      ]
     },
     "metadata": {},
     "output_type": "display_data"
    }
   ],
   "source": [
    "# plotdata.plot(kind = \"bar\", figsize = (15,10))\n",
    "# plt.title(\"Escape Attempts per Country\")\n",
    "# plt.xlabel(\"Country\")\n",
    "# plt.ylabel(\"Escape Attempts\")\n",
    "# plt.show()\n",
    "\n",
    "fig, ax = plt.subplots(figsize=(20, 10))\n",
    "# sns.barplot(x='Country', y='TotalAttempts', data=plotdata, ax=ax)\n",
    "\n",
    "# ax.set_title('Total Attempts by Country')\n",
    "# ax.set_xlabel('Country')\n",
    "# ax.set_ylabel('Total Attempts')\n",
    "# plt.show()\n",
    "\n",
    "\n",
    "df_melted = pd.melt(plotdata, id_vars=['Country'], var_name='Attempt Type', value_name='Count')\n",
    "sns.barplot(x='Country', y='Count', hue='Attempt Type', data=df_melted, ax = ax)\n",
    "plt.show()\n"
   ]
  },
  {
   "cell_type": "code",
   "execution_count": 45,
   "metadata": {},
   "outputs": [
    {
     "name": "stdout",
     "output_type": "stream",
     "text": [
      "           Country  TotalAttempts  Successes  Fails\n",
      "0          Belgium              4          2      2\n",
      "1          Ireland              1          2      0\n",
      "2           Canada              4          3      1\n",
      "3           Brazil              2          2      0\n",
      "4        Australia              2          1      1\n",
      "5           Mexico              1          2      0\n",
      "6           Russia              1          1      0\n",
      "7      Puerto Rico              1          1      0\n",
      "8    United States              8          6      2\n",
      "9   United Kingdom              2          1      1\n",
      "10     Netherlands              1          0      1\n",
      "11          Greece              4          2      2\n",
      "12          France             15         11      4\n",
      "13           Chile              1          1      0\n",
      "14           Italy              1          1      0\n"
     ]
    }
   ],
   "source": [
    "print(df)"
   ]
  },
  {
   "cell_type": "markdown",
   "metadata": {},
   "source": [
    "#### Red bar denotes the sucess out of total attempts (blue bar) and observing all bars we can say that US has may have the high sucess of escaping. Although, there are countries where the attempted escape has been successful but the number of attempts are very little."
   ]
  },
  {
   "cell_type": "code",
   "execution_count": 48,
   "metadata": {},
   "outputs": [
    {
     "data": {
      "text/plain": [
       "[[1971,\n",
       "  'Santa Martha Acatitla',\n",
       "  'Mexico',\n",
       "  'Yes',\n",
       "  'Joel David Kaplan Carlos Antonio Contreras Castro'],\n",
       " [1973,\n",
       "  'Mountjoy Jail',\n",
       "  'Ireland',\n",
       "  'Yes',\n",
       "  \"JB O'Hagan Seamus TwomeyKevin Mallon\"],\n",
       " [1978,\n",
       "  'United States Penitentiary, Marion',\n",
       "  'United States',\n",
       "  'No',\n",
       "  'Garrett Brock TrapnellMartin Joseph McNallyJames Kenneth Johnson'],\n",
       " [1981,\n",
       "  'Fleury-Mérogis, Essonne, Ile de France',\n",
       "  'France',\n",
       "  'Yes',\n",
       "  'Gérard DupréDaniel Beaumont'],\n",
       " [1981,\n",
       "  'Orsainville Prison, Quebec City',\n",
       "  'Canada',\n",
       "  'No',\n",
       "  'Marina Paquet (hijacker)Giles Arseneault (prisoner)'],\n",
       " [1983, 'Pentridge (HM Prison)', 'Australia', 'No', 'David McMillan'],\n",
       " [1985,\n",
       "  'Perry Correctional Institution, Pelzer, South Carolina',\n",
       "  'United States',\n",
       "  'Yes',\n",
       "  'James Rodney LeonardWilliam Douglas BallewJesse Glenn Smith'],\n",
       " [1985,\n",
       "  'Cândido Mendes penitentiary, Ilha Grande, Rio de Janeiro',\n",
       "  'Brazil',\n",
       "  'Yes',\n",
       "  'José Carlos dos Reis Encina, a.k.a. \"Escadinha\"'],\n",
       " [1986, 'Prison de la Santé', 'France', 'Yes', 'Michel Vaujour'],\n",
       " [1986,\n",
       "  'Federal Correctional Institution, Dublin',\n",
       "  'United States',\n",
       "  'Yes',\n",
       "  'Samantha Lopez'],\n",
       " [1986,\n",
       "  'Prigione di Rebibbia, Roma',\n",
       "  'Italy',\n",
       "  'Yes',\n",
       "  'André BellaïcheGianluigi EspositoLuciano Cipollari'],\n",
       " [1987,\n",
       "  'Gartree (HM Prison)',\n",
       "  'United Kingdom',\n",
       "  'Yes',\n",
       "  'Sydney DraperJohn Kendall'],\n",
       " [1988,\n",
       "  'Santa Fe prison',\n",
       "  'United States',\n",
       "  'Yes',\n",
       "  'Mahoney Danny Francis MitchellRandy Lackey'],\n",
       " [1989,\n",
       "  'Federal Holding Facility, Miami, FL',\n",
       "  'United States',\n",
       "  'No',\n",
       "  'Ben Kramer'],\n",
       " [1989,\n",
       "  'Arkansas Valley Correctional Facility',\n",
       "  'United States',\n",
       "  'Yes',\n",
       "  'Ralph BrownFreddie Gonzales'],\n",
       " [1990,\n",
       "  'Kent Penitentiary, British Columbia',\n",
       "  'Canada',\n",
       "  'Yes',\n",
       "  'Robert FordDavid Thomas'],\n",
       " [1991,\n",
       "  'Rio Piedras State Penitentiary, Puerto Rico',\n",
       "  'Puerto Rico',\n",
       "  'Yes',\n",
       "  'William Lane'],\n",
       " [1992, 'Lyon Prison', 'France', 'Yes', '—'],\n",
       " [1992, 'Touraine Central Prison, Tours', 'France', 'No', '—'],\n",
       " [1993, 'Touraine Central Prison, Tours', 'France', 'No', 'Michel Vaujour'],\n",
       " [1996,\n",
       "  'High Security Prison, Santiago',\n",
       "  'Chile',\n",
       "  'Yes',\n",
       "  'Four members of the Manuel Rodriguez Patriotic Front'],\n",
       " [1997, 'De Geerhorst jail', 'Netherlands', 'No', '—'],\n",
       " [1999,\n",
       "  'Metropolitan Remand and Reception Centre',\n",
       "  'Australia',\n",
       "  'Yes',\n",
       "  'John Killick'],\n",
       " [2000,\n",
       "  'Martin Treatment Center for Sexually Violent Predators, Martin County Florida',\n",
       "  'United States',\n",
       "  'Yes',\n",
       "  'Steven Whitsett'],\n",
       " [2000, 'Lyon prison', 'France', 'Yes', '—'],\n",
       " [2001, 'Luynes prison', 'France', 'Yes', 'Pascal Payet'],\n",
       " [2001,\n",
       "  'Draguignan prison',\n",
       "  'France',\n",
       "  'Yes',\n",
       "  'Abdelhamid CarnousEmile Forma-SariJean-Philippe Lecase'],\n",
       " [2001, 'Fresnes prison', 'France', 'No', '—'],\n",
       " [2002, 'Parada Neto Penitentiary', 'Brazil', 'Yes', '—'],\n",
       " [2002,\n",
       "  'Las Cucharas prison, Puerto Rico',\n",
       "  'United States',\n",
       "  'Yes',\n",
       "  'Orlando Cartagena Jose Rodriguez Victor Diaz Hector Diaz Jose Tapia'],\n",
       " [2003,\n",
       "  'Luynes prison',\n",
       "  'France',\n",
       "  'Yes',\n",
       "  'Eric AlboreoFranck PerlettoMichel Valero'],\n",
       " [2005, 'France', 'France', 'No', '—'],\n",
       " [2005,\n",
       "  'Aiton Prison',\n",
       "  'France',\n",
       "  'Yes',\n",
       "  'Hubert SellesJean-Claude MorettiMohamed Bessame'],\n",
       " [2006, 'Korydallos Prison', 'Greece', 'Yes', 'Vassilis Paleokostas'],\n",
       " [2007, 'Lantin Prison, Liège', 'Belgium', 'Yes', 'Eric Ferdinand'],\n",
       " [2007, 'Grasse prison', 'France', 'Yes', 'Pascal Payet'],\n",
       " [2007, 'Ittre prison', 'Belgium', 'No', 'Nordin Benallal'],\n",
       " [2009,\n",
       "  'Korydallos Prison',\n",
       "  'Greece',\n",
       "  'Yes',\n",
       "  'Vasilis PaleokostasAlket Rizai'],\n",
       " [2009,\n",
       "  'Domenjod Prison, Réunion',\n",
       "  'France',\n",
       "  'Yes',\n",
       "  'Alexin JismyFabrice Michel'],\n",
       " [2009,\n",
       "  'Bruges',\n",
       "  'Belgium',\n",
       "  'Yes',\n",
       "  'Ashraf Sekkaki plus three other criminals'],\n",
       " [2010,\n",
       "  'HM Prison Isle of Wight, Isle of Wight',\n",
       "  'United Kingdom',\n",
       "  'No',\n",
       "  'Brian Lawrence'],\n",
       " [2012, 'Sheksna, Penal colony N17', 'Russia', 'Yes', 'Alexey Shestakov'],\n",
       " [2013, 'Trikala Prison, Trikala', 'Greece', 'No', 'Panagiotis Vlastos'],\n",
       " [2013,\n",
       "  'Saint-Jérôme Detention Facility, Quebec',\n",
       "  'Canada',\n",
       "  'Yes',\n",
       "  'Benjamin Hudon-BarbeauDanny Provençal'],\n",
       " [2014,\n",
       "  'Orsainville Detention Facility, Quebec',\n",
       "  'Canada',\n",
       "  'Yes',\n",
       "  'Yves DenisDenis LefebvreSerge Pomerleau'],\n",
       " [2016, 'Thiva', 'Greece', 'No', 'Pola RoupaNikos Maziotis'],\n",
       " [2018, 'Réau, near Paris', 'France', 'Yes', 'Rédoine Faïd'],\n",
       " [2020, 'Forest prison, Brussels', 'Belgium', 'No', 'Kristel A.']]"
      ]
     },
     "execution_count": 48,
     "metadata": {},
     "output_type": "execute_result"
    }
   ],
   "source": [
    "data"
   ]
  },
  {
   "cell_type": "code",
   "execution_count": null,
   "metadata": {},
   "outputs": [],
   "source": []
  }
 ],
 "metadata": {
  "celltoolbar": "Edit Metadata",
  "kernelspec": {
   "display_name": "Python 3",
   "language": "python",
   "name": "python3"
  },
  "language_info": {
   "codemirror_mode": {
    "name": "ipython",
    "version": 3
   },
   "file_extension": ".py",
   "mimetype": "text/x-python",
   "name": "python",
   "nbconvert_exporter": "python",
   "pygments_lexer": "ipython3",
   "version": "3.8.2"
  }
 },
 "nbformat": 4,
 "nbformat_minor": 2
}
